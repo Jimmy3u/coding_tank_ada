{
 "cells": [
  {
   "cell_type": "markdown",
   "id": "cf1aa74a-ff47-41ea-8581-4987462e6c84",
   "metadata": {},
   "source": [
    "# Aula 02 - Coding tank "
   ]
  },
  {
   "cell_type": "markdown",
   "id": "36f4e124-092d-4356-a1ff-62d3ec471089",
   "metadata": {},
   "source": [
    "- Operadores logicos\n",
    "- Condicionais\n",
    "- if elif"
   ]
  },
  {
   "cell_type": "code",
   "execution_count": 6,
   "id": "15d123cd-61f0-4b88-b2eb-5a1d9423d407",
   "metadata": {},
   "outputs": [
    {
     "data": {
      "text/plain": [
       "True"
      ]
     },
     "execution_count": 6,
     "metadata": {},
     "output_type": "execute_result"
    }
   ],
   "source": [
    "True and True"
   ]
  },
  {
   "cell_type": "code",
   "execution_count": 7,
   "id": "6698b60a-327f-43b8-bb73-a65a4292e09c",
   "metadata": {},
   "outputs": [
    {
     "data": {
      "text/plain": [
       "True"
      ]
     },
     "execution_count": 7,
     "metadata": {},
     "output_type": "execute_result"
    }
   ],
   "source": [
    "False or True"
   ]
  },
  {
   "cell_type": "markdown",
   "id": "e7014509-76fa-4538-b916-59c848a1b501",
   "metadata": {},
   "source": [
    "## Condicional If/Elif\n",
    "\n",
    "obs: Cuidado com identação"
   ]
  },
  {
   "cell_type": "code",
   "execution_count": 8,
   "id": "36e44cf8-fb5a-4bfe-9c0e-34c26c1611b3",
   "metadata": {},
   "outputs": [
    {
     "name": "stdout",
     "output_type": "stream",
     "text": [
      "5\n"
     ]
    }
   ],
   "source": [
    "# Identação correta\n",
    "numero = 5\n",
    "if numero > 2 :\n",
    "    print(numero)"
   ]
  },
  {
   "cell_type": "code",
   "execution_count": 9,
   "id": "c9878524-a2a9-4bb8-abeb-447effa0937e",
   "metadata": {},
   "outputs": [
    {
     "ename": "IndentationError",
     "evalue": "expected an indented block after 'if' statement on line 3 (2504948721.py, line 4)",
     "output_type": "error",
     "traceback": [
      "\u001b[0;36m  Cell \u001b[0;32mIn[9], line 4\u001b[0;36m\u001b[0m\n\u001b[0;31m    print(numero)\u001b[0m\n\u001b[0m    ^\u001b[0m\n\u001b[0;31mIndentationError\u001b[0m\u001b[0;31m:\u001b[0m expected an indented block after 'if' statement on line 3\n"
     ]
    }
   ],
   "source": [
    "## Erro pela identação\n",
    "numero = 2\n",
    "if numero > 5:\n",
    "print(numero)"
   ]
  },
  {
   "cell_type": "code",
   "execution_count": 13,
   "id": "3cf27ee5-8936-4810-adfd-ff0628cd2869",
   "metadata": {},
   "outputs": [
    {
     "name": "stdout",
     "output_type": "stream",
     "text": [
      "e\n"
     ]
    }
   ],
   "source": [
    "numero = 8\n",
    "if numero > 0 and numero < 4:\n",
    "    print(\"sei la meu\")\n",
    "elif numero == 5:\n",
    "    print(\"CINCO\")\n",
    "else:\n",
    "    print(\"e\")"
   ]
  },
  {
   "cell_type": "markdown",
   "id": "9f1a3f7b-c901-4a6f-bd83-a2171d640a7c",
   "metadata": {},
   "source": [
    "## Exercicio\n",
    "Faça um script para dizer se um numero é par ou impar:"
   ]
  },
  {
   "cell_type": "code",
   "execution_count": 16,
   "id": "d6a4fd6e-0e8e-4614-a8a2-57e184aeff1a",
   "metadata": {},
   "outputs": [
    {
     "name": "stdin",
     "output_type": "stream",
     "text": [
      "Insira um numero 10\n"
     ]
    },
    {
     "name": "stdout",
     "output_type": "stream",
     "text": [
      "par\n"
     ]
    }
   ],
   "source": [
    "numero = int(input(\"Insira um numero\"))\n",
    "\n",
    "if (numero % 2 == 0 ):\n",
    "    print(\"par\")\n",
    "else:\n",
    "    print(\"impar\")"
   ]
  },
  {
   "cell_type": "markdown",
   "id": "dfb6260b-ec91-42f3-8a54-b2321c8a1f4b",
   "metadata": {},
   "source": [
    "Faça um programa que receba 2 notas, calcule a media e caso a media for maior que 6 ele esta aprovado. Caso menor que 6, esta reprovado e se receber um 10, imprime um parabens."
   ]
  },
  {
   "cell_type": "code",
   "execution_count": 3,
   "id": "36f00f76-4e58-453a-b3fc-bda05f1d72f9",
   "metadata": {},
   "outputs": [
    {
     "name": "stdin",
     "output_type": "stream",
     "text": [
      "Insira a primeira nota:  11\n",
      "Insira a segunda nota:  11\n"
     ]
    },
    {
     "ename": "SyntaxError",
     "evalue": "'break' outside loop (3630730768.py, line 7)",
     "output_type": "error",
     "traceback": [
      "\u001b[0;36m  Cell \u001b[0;32mIn[3], line 7\u001b[0;36m\u001b[0m\n\u001b[0;31m    break\u001b[0m\n\u001b[0m    ^\u001b[0m\n\u001b[0;31mSyntaxError\u001b[0m\u001b[0;31m:\u001b[0m 'break' outside loop\n"
     ]
    }
   ],
   "source": [
    "n1 = float(input(\"Insira a primeira nota: \"))\n",
    "n2 = float(input(\"Insira a segunda nota: \"))\n",
    "media = (n1+n2)/2\n",
    "\n",
    "if ((n1 >10) or (n2>10)):\n",
    "    print(\"As notas não podem ser maior que 10\")\n",
    "    break\n",
    "\n",
    "if media == 10:\n",
    "    print(\"PARABENS! Aprovado\")\n",
    "elif media > 6:\n",
    "    print(\"Aprovado\")\n",
    "else:\n",
    "    print(\"Reporvado\")"
   ]
  },
  {
   "cell_type": "markdown",
   "id": "71f603c9-5810-4044-9175-b7f57ad76cbe",
   "metadata": {},
   "source": [
    "Faça um fizzBuzz"
   ]
  },
  {
   "cell_type": "code",
   "execution_count": 12,
   "id": "eec83339-bf36-4968-b123-3fd233dda873",
   "metadata": {},
   "outputs": [
    {
     "name": "stdin",
     "output_type": "stream",
     "text": [
      "Insira um numero: 30\n"
     ]
    },
    {
     "name": "stdout",
     "output_type": "stream",
     "text": [
      "fizzbuzz\n"
     ]
    }
   ],
   "source": [
    "num = int(input(\"Insira um numero:\"))\n",
    "\n",
    "if ((num % 3 == 0 ) and (num % 5 == 0)):\n",
    "    print(\"fizzbuzz\")\n",
    "elif (num % 3 == 0):\n",
    "    print(\"buzz\")\n",
    "elif (num % 5 == 0):\n",
    "    print(\"fizz\")"
   ]
  },
  {
   "cell_type": "code",
   "execution_count": null,
   "id": "78dfad74-9003-4aed-bbac-b9ec1b8453bd",
   "metadata": {},
   "outputs": [],
   "source": []
  }
 ],
 "metadata": {
  "kernelspec": {
   "display_name": "Python 3 (ipykernel)",
   "language": "python",
   "name": "python3"
  },
  "language_info": {
   "codemirror_mode": {
    "name": "ipython",
    "version": 3
   },
   "file_extension": ".py",
   "mimetype": "text/x-python",
   "name": "python",
   "nbconvert_exporter": "python",
   "pygments_lexer": "ipython3",
   "version": "3.11.5"
  }
 },
 "nbformat": 4,
 "nbformat_minor": 5
}
