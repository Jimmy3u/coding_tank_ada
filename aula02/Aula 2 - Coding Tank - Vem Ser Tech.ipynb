{
 "cells": [
  {
   "cell_type": "markdown",
   "id": "bd275093",
   "metadata": {},
   "source": [
    "<div style=\"background-color: lightgreen; padding: 18px;\">\n",
    "    <h1> Coding Tank | Vem Ser Tech \n",
    "</div>"
   ]
  },
  {
   "cell_type": "markdown",
   "id": "cf23d9e5",
   "metadata": {},
   "source": [
    "<div style=\"background-color: lightblue; padding: 10px;\">\n",
    "    <h2> Tópicos da aula - AULA 2\n",
    "</div>\n",
    "\n",
    "- Operadores lógicos de conjunção\n",
    "- Estrutura condicional e controle de fluxo\n",
    "- Comando if\n",
    "- Comando else\n",
    "- Comando elif\n"
   ]
  },
  {
   "cell_type": "markdown",
   "id": "643dc92b",
   "metadata": {},
   "source": [
    "Imagine que o critério de aprovação em uma escola seja a média superior a 7.0 e presença superior a 75%. Neste caso, o aluno precisa atender a ambos os critérios para ser aprovado. Se ele tirou uma ótima nota, mas faltou demais, será reprovado. Se ele compareceu a todas as aulas, mas teve notas baixas, idem.\n"
   ]
  },
  {
   "cell_type": "code",
   "execution_count": 3,
   "id": "c4a6b4f3-1026-4ae1-9206-e30b27e788ca",
   "metadata": {},
   "outputs": [
    {
     "data": {
      "text/plain": [
       "True"
      ]
     },
     "execution_count": 3,
     "metadata": {},
     "output_type": "execute_result"
    }
   ],
   "source": [
    "True and True"
   ]
  },
  {
   "cell_type": "code",
   "execution_count": 4,
   "id": "ab9ff156-a67c-4e6f-b558-12440ebe55cc",
   "metadata": {},
   "outputs": [
    {
     "data": {
      "text/plain": [
       "False"
      ]
     },
     "execution_count": 4,
     "metadata": {},
     "output_type": "execute_result"
    }
   ],
   "source": [
    "True and False"
   ]
  },
  {
   "cell_type": "code",
   "execution_count": 5,
   "id": "1e314924-00ad-4f10-af9b-7e06c7ee8a45",
   "metadata": {},
   "outputs": [
    {
     "data": {
      "text/plain": [
       "False"
      ]
     },
     "execution_count": 5,
     "metadata": {},
     "output_type": "execute_result"
    }
   ],
   "source": [
    "False and True"
   ]
  },
  {
   "cell_type": "code",
   "execution_count": 6,
   "id": "0ed76dfd-ad3e-42c1-84ec-b19816a83513",
   "metadata": {},
   "outputs": [
    {
     "data": {
      "text/plain": [
       "False"
      ]
     },
     "execution_count": 6,
     "metadata": {},
     "output_type": "execute_result"
    }
   ],
   "source": [
    "False and False"
   ]
  },
  {
   "cell_type": "code",
   "execution_count": null,
   "id": "68522eb7-fe4f-4f78-afe0-cee9c2ffd120",
   "metadata": {},
   "outputs": [],
   "source": []
  },
  {
   "cell_type": "code",
   "execution_count": 7,
   "id": "2cddfb3a-686a-49b3-9146-efb016c5d10a",
   "metadata": {},
   "outputs": [
    {
     "data": {
      "text/plain": [
       "True"
      ]
     },
     "execution_count": 7,
     "metadata": {},
     "output_type": "execute_result"
    }
   ],
   "source": [
    "True or True"
   ]
  },
  {
   "cell_type": "code",
   "execution_count": 8,
   "id": "afd32d66-0edf-4598-8090-54e84392c28c",
   "metadata": {},
   "outputs": [
    {
     "data": {
      "text/plain": [
       "True"
      ]
     },
     "execution_count": 8,
     "metadata": {},
     "output_type": "execute_result"
    }
   ],
   "source": [
    "True or False"
   ]
  },
  {
   "cell_type": "code",
   "execution_count": 9,
   "id": "66ebea14",
   "metadata": {},
   "outputs": [
    {
     "data": {
      "text/plain": [
       "True"
      ]
     },
     "execution_count": 9,
     "metadata": {},
     "output_type": "execute_result"
    }
   ],
   "source": [
    "False or True"
   ]
  },
  {
   "cell_type": "code",
   "execution_count": 10,
   "id": "a101d3bf-e6ac-4da0-8209-f85eff391a78",
   "metadata": {},
   "outputs": [
    {
     "data": {
      "text/plain": [
       "False"
      ]
     },
     "execution_count": 10,
     "metadata": {},
     "output_type": "execute_result"
    }
   ],
   "source": [
    "False or False"
   ]
  },
  {
   "cell_type": "code",
   "execution_count": null,
   "id": "4921a50f-277f-4c4a-8803-dd23bee50303",
   "metadata": {},
   "outputs": [],
   "source": []
  },
  {
   "cell_type": "markdown",
   "id": "3b8a9808",
   "metadata": {},
   "source": [
    "**Operadores lógicos**\n",
    "\n",
    "|     Operador    |                            Definição                           |     Operação    |\n",
    "|:---------------:|:--------------------------------------------------------------:|:---------------:|\n",
    "|        and      |     Retorna   True se ambas as afirmações forem verdadeiras    |         e       |\n",
    "|        or       |       Retorna   True se uma das afirmações for verdadeira      |        ou       |\n",
    "|        not      |          retorna   Falso se o resultado for verdadeiro         |        não      |\n",
    "\n",
    "\n",
    "**AND** é uma conjunção lógica e o **OR** é uma disjunção lógica. O **not** é a negação lógica.\n",
    "\n",
    "| *A*   | *B*   | *A and B* | *A or B* | *not A* |\n",
    "|-------|-------|-----------|----------|---------|\n",
    "| False | False | False     | False    | True    |\n",
    "| False | True  | False     | True     | True    |\n",
    "| True  | False | False     | True     | False   |\n",
    "| True  | True  | True      | True     | False   |\n",
    "\n",
    "\n",
    "Será que conseguimos escrever o problema acima de uma forma mais fácil?\n",
    "\n",
    "## Estrutura condicional\n",
    "\n",
    "- if\n",
    "\n",
    "Obs.: Python é uma linguagem indentada"
   ]
  },
  {
   "cell_type": "code",
   "execution_count": 19,
   "id": "58fa0e50-728b-40de-a35d-8aadd2b32658",
   "metadata": {},
   "outputs": [],
   "source": [
    "numero = 1\n",
    "\n",
    "if (numero > 2):\n",
    "    print(numero)"
   ]
  },
  {
   "cell_type": "code",
   "execution_count": 22,
   "id": "9b162254-d9cd-4fb3-b5d9-ab0f73b39e49",
   "metadata": {},
   "outputs": [
    {
     "name": "stdout",
     "output_type": "stream",
     "text": [
      "Digite sua altura:  .1\n"
     ]
    }
   ],
   "source": [
    "altura = float(input(\"Digite sua altura: \"))\n",
    "\n",
    "if (altura > 1.7) and (altura < 2.0):\n",
    "    print(\"Você é um alto normal\")"
   ]
  },
  {
   "cell_type": "code",
   "execution_count": 24,
   "id": "cd8de221-cbb9-45d2-b85d-fd6f611c0edd",
   "metadata": {},
   "outputs": [
    {
     "name": "stdout",
     "output_type": "stream",
     "text": [
      "Digite sua altura:  1.8\n"
     ]
    },
    {
     "name": "stdout",
     "output_type": "stream",
     "text": [
      "Você é alto\n"
     ]
    }
   ],
   "source": [
    "altura = float(input(\"Digite sua altura: \"))\n",
    "\n",
    "if (altura > 1.7):\n",
    "    print(\"Você é alto\")\n",
    "else: \n",
    "    print(\"Você é baixo\")"
   ]
  },
  {
   "cell_type": "code",
   "execution_count": null,
   "id": "2ae7977a-aec2-45fa-9dac-ef7cce8f96fd",
   "metadata": {},
   "outputs": [],
   "source": []
  },
  {
   "cell_type": "markdown",
   "id": "0e671fed-8215-439f-99f8-42f07676a842",
   "metadata": {},
   "source": [
    "## Exercício:\n",
    "\n",
    "Faça um script que diga se um número é par ou ímpar"
   ]
  },
  {
   "cell_type": "code",
   "execution_count": 38,
   "id": "0f89cb5b-b4e7-46c7-9b08-53f4b8a62ab2",
   "metadata": {},
   "outputs": [
    {
     "name": "stdout",
     "output_type": "stream",
     "text": [
      "Digite um número:  4\n"
     ]
    },
    {
     "name": "stdout",
     "output_type": "stream",
     "text": [
      "\n",
      "Número 4 é par\n"
     ]
    }
   ],
   "source": [
    "numero = int(input(\"Digite um número: \"))\n",
    "\n",
    "texto = f\"\\nNúmero {numero} é\"\n",
    "\n",
    "if (numero % 2 == 0):\n",
    "    resultado =  \"par\"\n",
    "else:\n",
    "    resultado = \"ímpar\"\n",
    "    \n",
    "print(texto, resultado)"
   ]
  },
  {
   "cell_type": "code",
   "execution_count": 31,
   "id": "5c535834-dbca-4e0e-9f41-007155341b82",
   "metadata": {},
   "outputs": [
    {
     "data": {
      "text/plain": [
       "False"
      ]
     },
     "execution_count": 31,
     "metadata": {},
     "output_type": "execute_result"
    }
   ],
   "source": [
    "bool(0)"
   ]
  },
  {
   "cell_type": "code",
   "execution_count": 32,
   "id": "1d2c50bc-e56b-4084-adbd-ee281437e13c",
   "metadata": {},
   "outputs": [
    {
     "data": {
      "text/plain": [
       "True"
      ]
     },
     "execution_count": 32,
     "metadata": {},
     "output_type": "execute_result"
    }
   ],
   "source": [
    "bool(1)"
   ]
  },
  {
   "cell_type": "code",
   "execution_count": 34,
   "id": "43f12a0b-7932-4864-b695-d949925310e5",
   "metadata": {},
   "outputs": [
    {
     "data": {
      "text/plain": [
       "2.0"
      ]
     },
     "execution_count": 34,
     "metadata": {},
     "output_type": "execute_result"
    }
   ],
   "source": [
    "4 / 2"
   ]
  },
  {
   "cell_type": "markdown",
   "id": "9df03ba0",
   "metadata": {},
   "source": [
    "A estrutura é essa (por enquanto):\n",
    "\n",
    "```python\n",
    "if (condicao): # condição\n",
    "    to do  # só executa se a condição for verdadeira\n",
    "else: \n",
    "    to do\n",
    "```  \n",
    "\n",
    "\n",
    "\n",
    "\n",
    "\n",
    "Vamos incluir a recuperação nesse exemplo (para facilitar, vamos deixar de lado a presença). O aluno tem direito a recuperação se a média é maior que 5.\n",
    "\n",
    "- se media for maior ou igual a 7: aprovado\n",
    "- se a media for maior ou igual a 5 e menor que 7: recuperacao\n",
    "- se a media for menor que 5: reprovado"
   ]
  },
  {
   "cell_type": "code",
   "execution_count": null,
   "id": "334fd649",
   "metadata": {},
   "outputs": [],
   "source": []
  },
  {
   "cell_type": "markdown",
   "id": "b9e9e46f",
   "metadata": {},
   "source": [
    "- elif"
   ]
  },
  {
   "cell_type": "code",
   "execution_count": 40,
   "id": "2312a538-0ffb-4f3b-acf0-208f0d1027f5",
   "metadata": {},
   "outputs": [
    {
     "name": "stdout",
     "output_type": "stream",
     "text": [
      "Digite sua altura:  1.5\n"
     ]
    },
    {
     "name": "stdout",
     "output_type": "stream",
     "text": [
      "Você é médio\n"
     ]
    }
   ],
   "source": [
    "altura = float(input(\"Digite sua altura: \"))\n",
    "\n",
    "if (altura < 1.1):\n",
    "    resultado = \"Você é baixo\"\n",
    "    \n",
    "elif (altura >= 1.1) and (altura <= 1.8):\n",
    "    resultado = \"Você é médio\"\n",
    "    \n",
    "else: \n",
    "    resultado = \"Você é alto\"\n",
    "    \n",
    "print(resultado)"
   ]
  },
  {
   "cell_type": "code",
   "execution_count": 43,
   "id": "c6c771c4-3b71-42c3-b295-21dff66e012b",
   "metadata": {},
   "outputs": [
    {
     "name": "stdout",
     "output_type": "stream",
     "text": [
      "Digite sua altura:  2\n"
     ]
    },
    {
     "name": "stdout",
     "output_type": "stream",
     "text": [
      "Você é alto\n"
     ]
    }
   ],
   "source": [
    "altura = float(input(\"Digite sua altura: \"))\n",
    "\n",
    "if (altura < 1.1):\n",
    "    resultado = \"Você é baixo\"\n",
    "    \n",
    "elif (altura <= 1.8):\n",
    "    resultado = \"Você é médio\"\n",
    "    \n",
    "elif (altura <= 2.3): \n",
    "    resultado = \"Você é alto\"\n",
    "    \n",
    "else:\n",
    "    resultado = \"socorro\"\n",
    "    \n",
    "print(resultado)"
   ]
  },
  {
   "cell_type": "code",
   "execution_count": null,
   "id": "8e8afe33-1689-4b02-91d0-571b27f32187",
   "metadata": {},
   "outputs": [],
   "source": []
  },
  {
   "cell_type": "markdown",
   "id": "5c857633-5ce7-42c6-8eb5-ad6bf6fd601c",
   "metadata": {},
   "source": [
    "## Exercício\n",
    "\n",
    "Faça um programa que receba 2 notas (de 0 a 10) de um usuário e calcule a média. Se a média for maior que 6, ele está aprovado. Se for menor que 6, está reprovado e se for 10 recebe um \"parabéns\""
   ]
  },
  {
   "cell_type": "code",
   "execution_count": 49,
   "id": "16665f99-6b66-4d73-bcd0-a2f9dedbc4e5",
   "metadata": {},
   "outputs": [
    {
     "name": "stdout",
     "output_type": "stream",
     "text": [
      "Digite a nota 1:  10\n",
      "Digite a nota 2:  10\n"
     ]
    },
    {
     "name": "stdout",
     "output_type": "stream",
     "text": [
      "Parabéns\n"
     ]
    }
   ],
   "source": [
    "n1 = float(input(\"Digite a nota 1: \"))\n",
    "n2 = float(input(\"Digite a nota 2: \"))\n",
    "\n",
    "media = (n1 + n2) / 2\n",
    "\n",
    "if ( media >= 6) and (media < 10):\n",
    "    resultado = \"aprovado\"\n",
    "\n",
    "elif (media < 6):\n",
    "    resultado = \"reprovado\"\n",
    "    \n",
    "else: # media == 10\n",
    "    resultado = \"Parabéns\"\n",
    "    \n",
    "print(resultado)"
   ]
  },
  {
   "cell_type": "code",
   "execution_count": 54,
   "id": "798f00d8-d088-4453-a874-8a0da0cc0874",
   "metadata": {},
   "outputs": [
    {
     "name": "stdout",
     "output_type": "stream",
     "text": [
      "Digite a nota 1:  10\n",
      "Digite a nota 2:  2\n"
     ]
    },
    {
     "name": "stdout",
     "output_type": "stream",
     "text": [
      "aprovado\n"
     ]
    }
   ],
   "source": [
    "n1 = float(input(\"Digite a nota 1: \"))\n",
    "n2 = float(input(\"Digite a nota 2: \"))\n",
    "\n",
    "if (n1 > 10) or (n2 > 10):\n",
    "    print(\"As notas precisam ser menor que 10. Digite novamente\")\n",
    "\n",
    "media = (n1 + n2) / 2\n",
    "\n",
    "if media == 10:\n",
    "    resultado = \"Parabéns\"\n",
    "    \n",
    "elif media == 0:\n",
    "    resultado = \"Estude mais\"\n",
    "\n",
    "elif (media < 6):\n",
    "    resultado = \"reprovado\"\n",
    "    \n",
    "else:\n",
    "    resultado = \"aprovado\"\n",
    "    \n",
    "print(resultado)"
   ]
  },
  {
   "cell_type": "code",
   "execution_count": null,
   "id": "c76ec8c2-0dfa-4e49-9d65-a84ad6f3269b",
   "metadata": {},
   "outputs": [],
   "source": []
  },
  {
   "cell_type": "markdown",
   "id": "4c43a859-f0c5-483d-ab43-f9eaa6daa7e6",
   "metadata": {},
   "source": [
    "# Exercício\n",
    "\n",
    "Crie um programa que receba um número e imprima \"fizz\" se o número for multiplo de 3, \"buzz\" se for multiplo de 5 e \"fizzbuzz\" se for multiplo de 3 e 5"
   ]
  },
  {
   "cell_type": "code",
   "execution_count": 58,
   "id": "76636f77-cbfc-4928-8d90-8a896b3d1f08",
   "metadata": {},
   "outputs": [
    {
     "name": "stdout",
     "output_type": "stream",
     "text": [
      "Digite um número:  4\n"
     ]
    },
    {
     "name": "stdout",
     "output_type": "stream",
     "text": [
      "nem 5, nem 3\n"
     ]
    }
   ],
   "source": [
    "numero = int(input(\"Digite um número: \"))\n",
    "\n",
    "if (numero % 3 == 0) and (numero % 5 == 0):\n",
    "    resultado = \"fizzbuzz\"\n",
    "elif (numero % 3 == 0):\n",
    "    resultado = \"fizz\"\n",
    "elif (numero % 5 == 0):\n",
    "    resultado = \"buzz\"\n",
    "else:\n",
    "    resultado = \"nem 5, nem 3\"\n",
    "    \n",
    "    \n",
    "print(resultado)"
   ]
  },
  {
   "cell_type": "code",
   "execution_count": 62,
   "id": "2d84dbe3",
   "metadata": {},
   "outputs": [
    {
     "name": "stdout",
     "output_type": "stream",
     "text": [
      "Digite um número:  15\n"
     ]
    },
    {
     "name": "stdout",
     "output_type": "stream",
     "text": [
      "fizzbuzz\n"
     ]
    }
   ],
   "source": [
    "numero = int(input(\"Digite um número: \"))\n",
    "\n",
    "p1 = \"\"\n",
    "p2 = \"\"\n",
    "\n",
    "if (numero % 3 == 0):\n",
    "    p1 = \"fizz\"\n",
    "    \n",
    "if (numero % 5 == 0):\n",
    "    p2 = \"buzz\"\n",
    "    \n",
    "resultado = p1 + p2\n",
    "\n",
    "print(resultado)"
   ]
  },
  {
   "cell_type": "code",
   "execution_count": null,
   "id": "d22c248e",
   "metadata": {},
   "outputs": [],
   "source": []
  },
  {
   "cell_type": "code",
   "execution_count": null,
   "id": "8fc754ec",
   "metadata": {},
   "outputs": [],
   "source": []
  },
  {
   "cell_type": "code",
   "execution_count": null,
   "id": "00b0ee8c-fd31-449f-8089-0407f0f87b7f",
   "metadata": {},
   "outputs": [],
   "source": []
  },
  {
   "cell_type": "code",
   "execution_count": null,
   "id": "c1f04403-8ebb-46dd-a3eb-d704182e0826",
   "metadata": {},
   "outputs": [],
   "source": []
  },
  {
   "cell_type": "code",
   "execution_count": null,
   "id": "e1fca4a7-4880-4c13-a32b-253144fea97c",
   "metadata": {},
   "outputs": [],
   "source": []
  },
  {
   "cell_type": "code",
   "execution_count": null,
   "id": "c6571b69-0de1-4b1e-9243-95b9c4b7a7c0",
   "metadata": {},
   "outputs": [],
   "source": []
  },
  {
   "cell_type": "code",
   "execution_count": null,
   "id": "df8dfd7d-0238-4a58-aa9f-96036f58a2a3",
   "metadata": {},
   "outputs": [],
   "source": []
  },
  {
   "cell_type": "code",
   "execution_count": null,
   "id": "2c202c22-a263-4382-995b-42766ff84da4",
   "metadata": {},
   "outputs": [],
   "source": []
  },
  {
   "cell_type": "code",
   "execution_count": null,
   "id": "f408428c-6abc-4e74-8711-e64d5b3f7b65",
   "metadata": {},
   "outputs": [],
   "source": []
  },
  {
   "cell_type": "code",
   "execution_count": null,
   "id": "5225a4e0",
   "metadata": {},
   "outputs": [],
   "source": []
  },
  {
   "cell_type": "markdown",
   "id": "0471ee21",
   "metadata": {
    "jp-MarkdownHeadingCollapsed": true
   },
   "source": [
    "## Saiba mais \n",
    "**Funções de strings (só uma introdução para facilitar em alguns exercícios)**\n",
    "\n",
    "Temos algumas funções prontas para alterar a capitalização das letras. Uma delas é a função upper, que transforma todas as letras da string original em maiúsculas:"
   ]
  },
  {
   "cell_type": "code",
   "execution_count": null,
   "id": "e24c3d9f",
   "metadata": {},
   "outputs": [],
   "source": [
    "frase = 'vAmOs PrOgRaMaR'\n",
    "maiuscula = frase.upper()\n",
    "print(maiuscula) # resultado: 'VAMOS PROGRAMAR'"
   ]
  },
  {
   "cell_type": "markdown",
   "id": "234041d6",
   "metadata": {},
   "source": [
    "Analogamente, temos a função lower para transformar todas as letras em minúsculas:"
   ]
  },
  {
   "cell_type": "code",
   "execution_count": null,
   "id": "c1ab913c",
   "metadata": {},
   "outputs": [],
   "source": []
  },
  {
   "cell_type": "markdown",
   "id": "7b3e877e",
   "metadata": {},
   "source": [
    "Também é possível formatar a string inteira como um nome próprio: primeira letra de cada palavra maiúscula, todo o restante em minúscula. Para isso temos a função title:"
   ]
  },
  {
   "cell_type": "code",
   "execution_count": null,
   "id": "91d7ba1c",
   "metadata": {},
   "outputs": [],
   "source": []
  },
  {
   "cell_type": "markdown",
   "id": "8422ef8c",
   "metadata": {},
   "source": [
    "E, por fim, é possível tratar nossa string como uma frase gramaticalmente correta: primeira letra maiúscula, todo o resto minúsculo. Essa função é a capitalize:"
   ]
  },
  {
   "cell_type": "code",
   "execution_count": null,
   "id": "52c0383c",
   "metadata": {},
   "outputs": [],
   "source": []
  },
  {
   "cell_type": "markdown",
   "id": "93b4c1f2",
   "metadata": {},
   "source": [
    "Uma utilidade para essas funções é padronizar entrada de usuário. Quando pedimos para o usuário digitar 'sim' caso ele deseje fazer algo, ele pode digitar 'SIM', 'sim', 'Sim', 'sIm', 'siM', 'SIm', 'sIM' ou 'SiM'. Prever todas essas condições em uma condicional pode ser bastante trabalhoso, ou mesmo impossível. Imagine se fosse uma string de várias letras... Porém, podemos forçar um padrão para a entrada do usuário e comparar com esse padrão:"
   ]
  },
  {
   "cell_type": "code",
   "execution_count": null,
   "id": "0b519b7a",
   "metadata": {},
   "outputs": [],
   "source": []
  },
  {
   "cell_type": "markdown",
   "id": "b723013f",
   "metadata": {},
   "source": [
    "Qualquer forma que o usuário digite a palavra 'sim' será aceita.\n",
    "\n",
    "Se quiser confirmar se dentro de uma string qo valor é um número, usamos o .isdigit(). Assim como tem o .isalpha()."
   ]
  },
  {
   "cell_type": "markdown",
   "id": "8fc83d82",
   "metadata": {},
   "source": [
    "Extra: O que será que acontece quando usamos o operador + com duas strings?"
   ]
  },
  {
   "cell_type": "code",
   "execution_count": null,
   "id": "8bd9f1c8",
   "metadata": {},
   "outputs": [],
   "source": [
    "1 + 1"
   ]
  },
  {
   "cell_type": "code",
   "execution_count": null,
   "id": "ead12e59",
   "metadata": {},
   "outputs": [],
   "source": [
    "\"A\" + \"B\"  # concatena quando é string"
   ]
  },
  {
   "cell_type": "markdown",
   "id": "94c64b66",
   "metadata": {},
   "source": [
    "**Bora praticar**\n",
    "\n",
    "1) Faça um programa que peça a idade do usuário e imprima se ele é maior ou menor de 18 anos.\n",
    "\n",
    "2) Faça um programa que peça um número e mostre se ele é positivo ou negativo. Alternativa: acrescentar nulo\n",
    "\n",
    "3) Faça um programa que peça dois números e mostre o maior deles.\n",
    "\n",
    "4) Faça um programa que leia a validade das informações:\n",
    "\n",
    "a. Idade: entre 0 e 150;\n",
    "\n",
    "b. Salário: maior que 0;\n",
    "\n",
    "c. Sexo: M, F ou Outro;\n",
    "\n",
    "O programa deve imprimir uma mensagem de erro para cada informação inválida.\n",
    "\n",
    "5) Escreva um programa que peça a nota de 3 provas de um aluno e verifique se ele passou ou não de ano.\n",
    "Obs.: O aluno irá passar de ano se sua média for maior que 6.\n",
    "\n",
    "6) Faça um programa que mostre uma questão de múltipla escolha com 5 opções (letras a, b, c, d, e). \n",
    "Sabendo a resposta certa, o programa deve receber a opção do usuário e informar a letra que o usuário marcou e se a resposta está certa ou errada.\n",
    "\n",
    "7)\n",
    "Vamos fazer um programa para verificar quem é o assassino de um crime. Para descobrir o assassino, \n",
    "a polícia faz um pequeno questionário com 5 perguntas \n",
    "onde a resposta só pode ser sim ou não:\n",
    "\n",
    "a. Mora perto da vítima?\n",
    "\n",
    "b. Já trabalhou com a vítima?\n",
    "\n",
    "c. Telefonou para a vítima?\n",
    "\n",
    "d. Esteve no local do crime?\n",
    "\n",
    "e. Devia para a vítima?\n",
    "\n",
    "Cada resposta sim dá um ponto para o suspeito. A polícia considera que os suspeitos com 5 pontos são os assassinos, com 4 a 3 pontos \n",
    "são cúmplices e 2 pontos são apenas suspeitos, necessitando outras investigações. Valores iguais ou abaixo de 1 são liberados.'''\n",
    "\n",
    "8) Um produto vai sofrer aumento de acordo com a Tabela 1 abaixo. Faça um programa que peça para o usuário digitar o valor do produto de acordo \n",
    "com o preço antigo e escreva uma das mensagens da Tabela 2, de acordo com o preço reajustado:\n",
    "\n",
    "Tabela 1\n",
    "\n",
    "| Preço Antigo         | % de aumento |\n",
    "|----------------------|--------------|\n",
    "| Até 50 reais         | 5%           |\n",
    "| Entre 50 e 100 reais | 10%          |\n",
    "| De 100 a 150 reais   | 13%          |\n",
    "| Acima de 150 reais   | 15%          |\n",
    "\n",
    "Tabela 2\n",
    "\n",
    "| Preço Novo            | Mensagem   |\n",
    "|-----------------------|------------|\n",
    "| Até 80 reais          | Barato     |\n",
    "| Entre 80 e 115 reais  | Razoável   |\n",
    "| Entre 115 e 150 reais | Normal     |\n",
    "| Entre 150 e 170 reais | Caro       |\n",
    "| Acima de 170 reais    | Muito Caro |\n",
    "\n",
    "9) Desafio 1 - Faça um programa que leia 3 números e informe o maior deles.\n",
    "\n",
    "# Resolução dos exercícios\n",
    "Lembrando que não há uma única forma de resolver\n",
    "\n",
    "Coloquem as respostas em dontpad.com/turma999 e vou escolher algumas resoluções"
   ]
  },
  {
   "cell_type": "markdown",
   "id": "ecb9c538",
   "metadata": {},
   "source": [
    "1) Faça um programa que peça a idade do usuário e imprima se ele é maior ou menor de 18 anos."
   ]
  },
  {
   "cell_type": "code",
   "execution_count": null,
   "id": "a0948962",
   "metadata": {},
   "outputs": [],
   "source": [
    "idade = int(input(\"Insira sua idade:\"))\n",
    "if idade >17:\n",
    "    print(\"Maior de idade\")\n",
    "else:\n",
    "    print(\"menor de idade\")"
   ]
  },
  {
   "cell_type": "markdown",
   "id": "8854719d",
   "metadata": {},
   "source": [
    "2) Faça um programa que peça um número e mostre se ele é positivo ou negativo. Alternativa: acrescentar zero. Desafio: acrescentar nulo"
   ]
  },
  {
   "cell_type": "code",
   "execution_count": 1,
   "id": "c4c552d9",
   "metadata": {},
   "outputs": [
    {
     "name": "stdin",
     "output_type": "stream",
     "text": [
      "Insira um numero -15\n"
     ]
    },
    {
     "name": "stdout",
     "output_type": "stream",
     "text": [
      "numero negativo\n"
     ]
    }
   ],
   "source": [
    "num = int(input(\"Insira um numero\"))\n",
    "\n",
    "if num == 0:\n",
    "    print(\"zero\")\n",
    "elif num > 1:\n",
    "    print(\"numero positivo\")\n",
    "else:\n",
    "    print(\"numero negativo\")"
   ]
  },
  {
   "cell_type": "markdown",
   "id": "2d29d00a",
   "metadata": {},
   "source": [
    "3) Faça um programa que peça dois números e mostre o maior deles."
   ]
  },
  {
   "cell_type": "code",
   "execution_count": null,
   "id": "04d34213",
   "metadata": {},
   "outputs": [],
   "source": []
  },
  {
   "cell_type": "code",
   "execution_count": null,
   "id": "f751cdc9",
   "metadata": {},
   "outputs": [],
   "source": []
  },
  {
   "cell_type": "markdown",
   "id": "d1180335",
   "metadata": {},
   "source": [
    "4) Faça um programa que leia a validade das informações:\n",
    "\n",
    "    a. Idade: entre 0 e 150;\n",
    "\n",
    "    b. Salário: maior que 0;\n",
    "\n",
    "    c. Sexo: M, F ou Outro;\n",
    "\n",
    "O programa deve imprimir uma mensagem de erro para cada informação inválida."
   ]
  },
  {
   "cell_type": "code",
   "execution_count": null,
   "id": "43340ccf",
   "metadata": {},
   "outputs": [],
   "source": []
  },
  {
   "cell_type": "code",
   "execution_count": null,
   "id": "f24b424b",
   "metadata": {},
   "outputs": [],
   "source": []
  },
  {
   "cell_type": "markdown",
   "id": "a8a65e5a",
   "metadata": {},
   "source": [
    "5) Escreva um programa que peça a nota de 3 provas de um aluno e verifique se ele passou ou não de ano.\n",
    "Obs.: O aluno irá passar de ano se sua média for maior que 6."
   ]
  },
  {
   "cell_type": "code",
   "execution_count": null,
   "id": "e7a19e2f",
   "metadata": {},
   "outputs": [],
   "source": []
  },
  {
   "cell_type": "markdown",
   "id": "e669f8cc",
   "metadata": {},
   "source": [
    "6) Faça um programa que mostre uma questão de múltipla escolha com 5 opções (letras a, b, c, d, e). \n",
    "Sabendo a resposta certa, o programa deve receber a opção do usuário e informar a letra que o usuário marcou e se a resposta está certa ou errada."
   ]
  },
  {
   "cell_type": "code",
   "execution_count": null,
   "id": "afbbc0ac",
   "metadata": {},
   "outputs": [],
   "source": []
  },
  {
   "cell_type": "markdown",
   "id": "43e66438",
   "metadata": {},
   "source": [
    "7) Vamos fazer um programa para verificar quem é o assassino de um crime. Para descobrir o assassino, a polícia faz um pequeno questionário com 5 perguntas onde a resposta só pode ser sim ou não:  \n",
    "\n",
    "\n",
    "    a. Mora perto da vítima? \n",
    "\n",
    "    b. Já trabalhou com a vítima? \n",
    "\n",
    "    c. Telefonou para a vítima?\n",
    "\n",
    "    d. Esteve no local do crime?\n",
    "\n",
    "    e. Devia para a vítima?\n",
    "\n",
    "Cada resposta sim dá um ponto para o suspeito. A polícia considera que os suspeitos com 5 pontos são os assassinos, com 4 a 3 pontos \n",
    "são cúmplices e 2 pontos são apenas suspeitos, necessitando outras investigações. Valores iguais ou abaixo de 1 são liberados."
   ]
  },
  {
   "cell_type": "code",
   "execution_count": null,
   "id": "678e153a",
   "metadata": {},
   "outputs": [],
   "source": []
  },
  {
   "cell_type": "markdown",
   "id": "b73da6e2",
   "metadata": {},
   "source": [
    "8) Um produto vai sofrer aumento de acordo com a Tabela 1 abaixo. Faça um programa que peça para o usuário digitar o valor do produto de acordo \n",
    "com o preço antigo e escreva uma das mensagens da Tabela 2, de acordo com o preço reajustado:\n",
    "\n",
    "Tabela 1\n",
    "\n",
    "| Preço Antigo         | % de aumento |\n",
    "|----------------------|--------------|\n",
    "| Até 50 reais         | 5%           |\n",
    "| Entre 50 e 100 reais | 10%          |\n",
    "| De 100 a 150 reais   | 13%          |\n",
    "| Acima de 150 reais   | 15%          |\n",
    "\n",
    "Tabela 2\n",
    "\n",
    "| Preço Novo            | Mensagem   |\n",
    "|-----------------------|------------|\n",
    "| Até 80 reais          | Barato     |\n",
    "| Entre 80 e 115 reais  | Razoável   |\n",
    "| Entre 115 e 150 reais | Normal     |\n",
    "| Entre 150 e 170 reais | Caro       |\n",
    "| Acima de 170 reais    | Muito Caro |"
   ]
  },
  {
   "cell_type": "code",
   "execution_count": null,
   "id": "e8830bae",
   "metadata": {},
   "outputs": [],
   "source": []
  },
  {
   "cell_type": "markdown",
   "id": "f8b8d13e",
   "metadata": {},
   "source": [
    "9) Desafio 1 - Faça um programa que leia 3 números e informe o maior deles."
   ]
  },
  {
   "cell_type": "code",
   "execution_count": null,
   "id": "a3f5bce1",
   "metadata": {},
   "outputs": [],
   "source": []
  },
  {
   "cell_type": "markdown",
   "id": "2dc4a4a4",
   "metadata": {},
   "source": [
    "# Exercício 1\n",
    "\n",
    "Faça um Programa que leia três números e mostre-os em ordem decrescente."
   ]
  },
  {
   "cell_type": "markdown",
   "id": "6b346096",
   "metadata": {},
   "source": [
    "# Exercício 2\n",
    "\n",
    "Faça um Programa que pergunte em que turno você estuda. Peça para digitar M-matutino ou V-Vespertino ou N- Noturno. Imprima a mensagem \"Bom Dia!\", \"Boa Tarde!\" ou \"Boa Noite!\" ou \"Valor Inválido!\", conforme o caso."
   ]
  },
  {
   "cell_type": "markdown",
   "id": "886045fa",
   "metadata": {},
   "source": [
    "# Exercício 3\n",
    "\n",
    "Faça um Programa que leia um número e exiba o dia correspondente da semana. (1-Domingo, 2- Segunda, etc.), se digitar outro valor deve aparecer valor inválido."
   ]
  },
  {
   "cell_type": "markdown",
   "id": "beacda07",
   "metadata": {},
   "source": [
    "# Exercício 4\n",
    "\n",
    "Faça um programa que pergunte o preço de três produtos e informe qual produto você deve comprar, sabendo que a decisão é sempre pelo mais barato."
   ]
  },
  {
   "cell_type": "markdown",
   "id": "258fe75b",
   "metadata": {},
   "source": [
    "# Exercício 5\n",
    "\n",
    "Faça um Programa que leia três números e mostre o maior deles."
   ]
  },
  {
   "cell_type": "markdown",
   "id": "77ec3345",
   "metadata": {},
   "source": [
    "# Exerício 6\n",
    "\n",
    "Faça um Programa que leia três números e mostre o maior e o menor deles."
   ]
  },
  {
   "cell_type": "markdown",
   "id": "214377bd",
   "metadata": {},
   "source": [
    "# Exercício 7\n",
    "\n",
    "\n",
    "Faça um programa que calcule as raízes de uma equação do segundo grau, na forma ax2 + bx + c. O programa deverá pedir os valores de a, b e c e fazer as consistências, informando ao usuário nas seguintes situações:\n",
    "  - Se o usuário informar o valor de A igual a zero, a equação não é do segundo grau e o programa não deve fazer pedir os demais valores, sendo encerrado;\n",
    "  - Se o delta calculado for negativo, a equação não possui raizes reais. Informe ao usuário e encerre o programa;\n",
    "  - Se o delta calculado for igual a zero a equação possui apenas uma raiz real; informe-a ao usuário;\n",
    "  - Se o delta for positivo, a equação possui duas raiz reais; informe-as ao usuário;\n"
   ]
  },
  {
   "cell_type": "markdown",
   "id": "df94db11",
   "metadata": {},
   "source": []
  },
  {
   "cell_type": "code",
   "execution_count": 8,
   "id": "699f933e-3396-4ff5-af19-b0125c793388",
   "metadata": {},
   "outputs": [
    {
     "name": "stdin",
     "output_type": "stream",
     "text": [
      "Idade:  60\n"
     ]
    },
    {
     "name": "stdout",
     "output_type": "stream",
     "text": [
      "Tem que votar\n"
     ]
    }
   ],
   "source": [
    "idade = int(input(\"Idade: \"))\n",
    "\n",
    "if idade <= 16:\n",
    "    print(\"Não pode votar\")\n",
    "elif (idade > 16 and idade < 18) or (idade > 60):\n",
    "    print(\"Se quiser pode\")\n",
    "else:\n",
    "    print(\"Tem que votar\")"
   ]
  },
  {
   "cell_type": "code",
   "execution_count": null,
   "id": "0bda3847-1d24-464d-b42f-cc4d351231ea",
   "metadata": {},
   "outputs": [],
   "source": []
  }
 ],
 "metadata": {
  "kernelspec": {
   "display_name": "Python 3 (ipykernel)",
   "language": "python",
   "name": "python3"
  },
  "language_info": {
   "codemirror_mode": {
    "name": "ipython",
    "version": 3
   },
   "file_extension": ".py",
   "mimetype": "text/x-python",
   "name": "python",
   "nbconvert_exporter": "python",
   "pygments_lexer": "ipython3",
   "version": "3.11.5"
  }
 },
 "nbformat": 4,
 "nbformat_minor": 5
}
