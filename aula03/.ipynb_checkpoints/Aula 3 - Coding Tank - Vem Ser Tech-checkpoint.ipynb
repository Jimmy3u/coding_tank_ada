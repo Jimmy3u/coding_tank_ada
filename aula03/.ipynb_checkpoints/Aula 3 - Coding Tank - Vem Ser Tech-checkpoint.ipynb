{
 "cells": [
  {
   "cell_type": "markdown",
   "id": "72cae5bf",
   "metadata": {},
   "source": [
    "<div style=\"background-color: lightgreen; padding: 18px;\">\n",
    "    <h1> Coding Tank | Vem Ser Tech \n",
    "</div>"
   ]
  },
  {
   "cell_type": "markdown",
   "id": "36ea7563",
   "metadata": {},
   "source": [
    "<div style=\"background-color: lightblue; padding: 10px;\">\n",
    "    <h2> Tópicos da aula - AULA 3\n",
    "</div>\n",
    "    \n",
    "- Estruturas de repetição\n",
    "- Loop while"
   ]
  },
  {
   "cell_type": "markdown",
   "id": "e339739b",
   "metadata": {},
   "source": [
    "Na aula passada fizemos o programa que a pessoa digitava 2 números e a gente dizia o maior. E se quisermos saber qual o maior entre 3 valores? E se quisermos 10? E se quisermos 100? Conseguimos fazer?"
   ]
  },
  {
   "cell_type": "code",
   "execution_count": 2,
   "id": "3a4661d9",
   "metadata": {},
   "outputs": [
    {
     "name": "stdout",
     "output_type": "stream",
     "text": [
      "Digite um número: 5\n",
      "Digite outro número: 5\n",
      "Os números são iguais e tem o valor de 5\n"
     ]
    }
   ],
   "source": []
  },
  {
   "cell_type": "code",
   "execution_count": 3,
   "id": "370b6564",
   "metadata": {},
   "outputs": [
    {
     "name": "stdout",
     "output_type": "stream",
     "text": [
      "Digite um número: 1\n",
      "Digite outro número: 10\n",
      "Digite outro número: 5\n",
      "O maior valor entre eles é 10\n"
     ]
    }
   ],
   "source": [
    "# Acrescentando mais um número para comparar\n",
    "\n"
   ]
  },
  {
   "cell_type": "markdown",
   "id": "3fe6e9ae",
   "metadata": {},
   "source": [
    "# Estruturas de Repetição\n",
    "\n",
    "Um **if** não garante que eu consigo validar o valor de um campo pois se o usuário não acertar na 2a vez, ele seguirá inválido"
   ]
  },
  {
   "cell_type": "code",
   "execution_count": 4,
   "id": "3045daff",
   "metadata": {},
   "outputs": [
    {
     "name": "stdout",
     "output_type": "stream",
     "text": [
      "digite seu salário: 1000\n",
      "salário inválido, digite outro: 500\n"
     ]
    }
   ],
   "source": []
  },
  {
   "cell_type": "code",
   "execution_count": 5,
   "id": "df254367",
   "metadata": {},
   "outputs": [
    {
     "name": "stdout",
     "output_type": "stream",
     "text": [
      "digite seu salário: 1000\n",
      "salário inválido, digite outro: 500\n",
      "salário inválido, digite outro: 300\n"
     ]
    }
   ],
   "source": []
  },
  {
   "cell_type": "code",
   "execution_count": 2,
   "id": "f51d6cc9",
   "metadata": {},
   "outputs": [
    {
     "name": "stdin",
     "output_type": "stream",
     "text": [
      "digite seu salário:  100\n",
      "salário inválido, digite outro:  150\n",
      "salário inválido, digite outro:  200\n",
      "salário inválido, digite outro:  1099\n",
      "salário inválido, digite outro:  1100\n"
     ]
    },
    {
     "name": "stdout",
     "output_type": "stream",
     "text": [
      "1100.0\n"
     ]
    }
   ],
   "source": [
    "salario = float(input(\"digite seu salário: \"))\n",
    "\n",
    "while salario < 1100: # Recebe uma expressão lógica\n",
    "    # Enquanto a expressão for veradeira (True), ele repete as linhas que estão aqui dentro\n",
    "    salario = float(input(\"salário inválido, digite outro: \"))\n",
    "    \n",
    "print(salario)"
   ]
  },
  {
   "cell_type": "markdown",
   "id": "04103985",
   "metadata": {},
   "source": [
    "__Obs.__: SEMPRE que eu trabalho com estrutura de repetição (**WHILE**) é NECESSÁRIO que a condição seja alterada dentro do while, SENÃO entro em looping infinito"
   ]
  },
  {
   "cell_type": "markdown",
   "id": "541e4a88",
   "metadata": {},
   "source": [
    "<div style=\"background-color: red; padding: 10px;\">\n",
    "    <h2> CUIDADO AO RODAR - é um loop infinito\n",
    "</div>"
   ]
  },
  {
   "cell_type": "code",
   "execution_count": null,
   "id": "44c98aa4",
   "metadata": {},
   "outputs": [],
   "source": [
    "# Exemplo de looping infinito\n",
    "salario = float(input(\"digite seu salário: \"))\n",
    "\n",
    "while salario < 1100:\n",
    "    print(salario)\n",
    "    \n",
    "# CUIDADO AO RODAR - é um loop infinito"
   ]
  },
  {
   "cell_type": "code",
   "execution_count": 7,
   "id": "dda1fea4",
   "metadata": {},
   "outputs": [
    {
     "name": "stdout",
     "output_type": "stream",
     "text": [
      "Digite um número: 5\n",
      "Digite um novo número ou digite 0 para encerrar: 10\n",
      "O maior valor é 10\n",
      "Digite um novo número ou digite 0 para encerrar: 3\n",
      "O maior valor é 10\n",
      "Digite um novo número ou digite 0 para encerrar: 11\n",
      "O maior valor é 11\n",
      "Digite um novo número ou digite 0 para encerrar: 20\n",
      "O maior valor é 20\n",
      "Digite um novo número ou digite 0 para encerrar: 0\n",
      "O maior valor é 20\n",
      "O maior valor digitado foi 20\n"
     ]
    }
   ],
   "source": []
  },
  {
   "cell_type": "markdown",
   "id": "b5f4c9f2",
   "metadata": {},
   "source": [
    "__Exemplo:__ Some todos os números de 0 a um número digitado pelo usuário"
   ]
  },
  {
   "cell_type": "code",
   "execution_count": 8,
   "id": "85036462",
   "metadata": {},
   "outputs": [],
   "source": [
    "# vamos digitar 4:\n",
    "\n",
    "# 0 + 1 + 2 + 3 + 4 = 10\n",
    "\n",
    "# 4 + 3 + 2 + 1 + 0 = 10\n",
    "\n",
    "# digitar 3:\n",
    "\n",
    "# 0 + 1 + 2 + 3 = 6\n",
    "\n",
    "# digitar 7:\n",
    "\n",
    "# 0 + 1 + 2 + 3 + 4 + 5 + 6 + 7 = 28"
   ]
  },
  {
   "cell_type": "code",
   "execution_count": 9,
   "id": "559afceb",
   "metadata": {},
   "outputs": [
    {
     "name": "stdout",
     "output_type": "stream",
     "text": [
      "Digite um número positivo: 4\n",
      "A soma é 10\n"
     ]
    }
   ],
   "source": []
  },
  {
   "cell_type": "code",
   "execution_count": 10,
   "id": "6a859a59",
   "metadata": {},
   "outputs": [
    {
     "name": "stdout",
     "output_type": "stream",
     "text": [
      "Digite um número inteiro positivo: 7\n",
      "O número é 7\n",
      "A soma, por enquanto, é 7\n",
      "O número atualizado é 6\n",
      "O número é 6\n",
      "A soma, por enquanto, é 13\n",
      "O número atualizado é 5\n",
      "O número é 5\n",
      "A soma, por enquanto, é 18\n",
      "O número atualizado é 4\n",
      "O número é 4\n",
      "A soma, por enquanto, é 22\n",
      "O número atualizado é 3\n",
      "O número é 3\n",
      "A soma, por enquanto, é 25\n",
      "O número atualizado é 2\n",
      "O número é 2\n",
      "A soma, por enquanto, é 27\n",
      "O número atualizado é 1\n",
      "O número é 1\n",
      "A soma, por enquanto, é 28\n",
      "O número atualizado é 0\n",
      "A soma é 28\n"
     ]
    }
   ],
   "source": []
  },
  {
   "cell_type": "code",
   "execution_count": 11,
   "id": "298d9fe4",
   "metadata": {},
   "outputs": [
    {
     "name": "stdout",
     "output_type": "stream",
     "text": [
      "Digite um número: 4\n",
      "10\n"
     ]
    }
   ],
   "source": []
  },
  {
   "cell_type": "markdown",
   "id": "a54f1580",
   "metadata": {},
   "source": [
    "Uma outra forma de incrementar um variável"
   ]
  },
  {
   "cell_type": "code",
   "execution_count": 12,
   "id": "410cca56",
   "metadata": {},
   "outputs": [
    {
     "name": "stdout",
     "output_type": "stream",
     "text": [
      "Digite um número: 4\n",
      "10\n"
     ]
    }
   ],
   "source": []
  },
  {
   "cell_type": "markdown",
   "id": "fff96799",
   "metadata": {},
   "source": [
    "# Alguns comandos de manipulação de fluxo\n",
    "\n",
    "Comando **break**: Utilizado para interromper a execução de um laço (for ou while) antes que ele termine normalmente.\n",
    "\n",
    "```python\n",
    "for item in sequencia:\n",
    "    if condicao:\n",
    "        break\n",
    "```\n",
    "\n",
    "Comando **continue**: Utilizado para pular a iteração atual de um laço e continuar com a próxima iteração.\n",
    "\n",
    "\n",
    "```python\n",
    "for item in sequencia:\n",
    "    if condicao:\n",
    "        continue\n",
    "    # O código aqui será executado apenas se a condição for falsa\n",
    "```\n",
    "   \n",
    "Comando **pass**: É usado como espaço reservado para código futuro. Não faz nada e é frequentemente usado para evitar erros de sintaxe em blocos vazios.\n",
    "\n",
    "```python\n",
    "if condicao:\n",
    "    pass  # código será adicionado posteriormente\n",
    "\n",
    "```"
   ]
  },
  {
   "cell_type": "markdown",
   "id": "07ed062c",
   "metadata": {},
   "source": [
    "Neste exercício, você deve criar um jogo simples em que o jogador tenta adivinhar um número secreto. O jogo continua até o jogador adivinhar corretamente ou desistir."
   ]
  },
  {
   "cell_type": "code",
   "execution_count": null,
   "id": "ac1011cc",
   "metadata": {},
   "outputs": [],
   "source": []
  },
  {
   "cell_type": "markdown",
   "id": "bc0eb076",
   "metadata": {},
   "source": [
    "**Bora praticar!**\n",
    "\n",
    "1) Escreva um programa que solicite um número inteiro e imprima na tela todos os números de 1 até o número digitado, separado por espaços.  \n",
    "_Exemplo_  \n",
    "número digitado: 5  \n",
    "resultado esperado: 1 2 3 4 5\n",
    "\n",
    "2) Faça um programa que mostre o fatorial de um número digitado.  \n",
    "_Exemplo_  \n",
    "número digitado: 5  \n",
    "resultado esperado: 120\n",
    "\n",
    "3) Faça um programa que imprima a tabuada do 9 na tela (entre 1 e 10). Insira a conta, por exemplo, 9 * 1 = 9, sendo cada um dos valores em uma linha diferente.\n",
    "\n",
    "4) Faça um programa em que o usuário digite números quaisquer e encerrará no momento em que o valor 0 seja digitado. Ao final diga qual foi o maior número digitado.\n",
    "\n",
    "5) Faça um script que peça para o usuário digitar a idade, o salário e o sexo de uma pessoa até que as entradas digitadas sejam válidas.  \n",
    "  \n",
    "a. Idade: entre 0 e 150  \n",
    "b. Salário: maior que 0  \n",
    "c. Gênero: M, F ou Outro  \n",
    "  \n",
    "Por último imprima os dados recebidos do usuário.\n",
    "\n",
    "6) Faça uma calculadora. O usuário deve inserir qual a operação matemática ele deseja realizar e logo em seguida os dois números. O programa deve finalizar apenas quando o usuário digitar a opção \"sair\" no momento de escolha da operação matemática.\n",
    "\n"
   ]
  },
  {
   "cell_type": "markdown",
   "id": "647738a0",
   "metadata": {},
   "source": [
    "## Resolução\n",
    "\n",
    "Coloque a solução dos exercícios abaixo no dontpad.com/turma922\n",
    "\n",
    "\n",
    "1) Escreva um programa que solicite um número inteiro e imprima na tela todos os números de 1 até o número digitado, separado por espaços.  \n",
    "_Exemplo_  \n",
    "número digitado: 5  \n",
    "resultado esperado: 1 2 3 4 5"
   ]
  },
  {
   "cell_type": "code",
   "execution_count": 13,
   "id": "9cbf8278",
   "metadata": {},
   "outputs": [
    {
     "name": "stdout",
     "output_type": "stream",
     "text": [
      "Digite um número: 4\n",
      "1 2 3 4 \n"
     ]
    }
   ],
   "source": []
  },
  {
   "cell_type": "code",
   "execution_count": 14,
   "id": "5aa4bc81",
   "metadata": {},
   "outputs": [
    {
     "name": "stdout",
     "output_type": "stream",
     "text": [
      "Digite um número: 5\n",
      "1 2 3 4 5 "
     ]
    }
   ],
   "source": []
  },
  {
   "cell_type": "markdown",
   "id": "c3814815",
   "metadata": {},
   "source": [
    "2) Faça um programa que mostre o fatorial de um número digitado.  \n",
    "_Exemplo_  \n",
    "número digitado: 5  \n",
    "resultado esperado: 120"
   ]
  },
  {
   "cell_type": "code",
   "execution_count": 15,
   "id": "dd7e7095",
   "metadata": {},
   "outputs": [
    {
     "name": "stdout",
     "output_type": "stream",
     "text": [
      "Digite um número inteiro positivo: 5\n",
      "120\n"
     ]
    }
   ],
   "source": []
  },
  {
   "cell_type": "code",
   "execution_count": 16,
   "id": "25de583b",
   "metadata": {},
   "outputs": [
    {
     "name": "stdout",
     "output_type": "stream",
     "text": [
      "Digite um numero inteiro5\n",
      "120\n"
     ]
    }
   ],
   "source": []
  },
  {
   "cell_type": "markdown",
   "id": "8edfd4c8",
   "metadata": {},
   "source": [
    "3) Faça um programa que imprima a tabuada do 9 na tela (entre 1 e 10). Insira a conta, por exemplo, 9 * 1 = 9, sendo cada um dos valores em uma linha diferente."
   ]
  },
  {
   "cell_type": "code",
   "execution_count": 17,
   "id": "e8ef1a39",
   "metadata": {},
   "outputs": [
    {
     "name": "stdout",
     "output_type": "stream",
     "text": [
      "1 * 9 = 9\n",
      "2 * 9 = 18\n",
      "3 * 9 = 27\n",
      "4 * 9 = 36\n",
      "5 * 9 = 45\n",
      "6 * 9 = 54\n",
      "7 * 9 = 63\n",
      "8 * 9 = 72\n",
      "9 * 9 = 81\n",
      "10 * 9 = 90\n"
     ]
    }
   ],
   "source": []
  },
  {
   "cell_type": "code",
   "execution_count": 18,
   "id": "62598d86",
   "metadata": {},
   "outputs": [
    {
     "name": "stdout",
     "output_type": "stream",
     "text": [
      "Digite um número: 9\n",
      "9 * 1 = 9 \n",
      "9 * 2 = 18 \n",
      "9 * 3 = 27 \n",
      "9 * 4 = 36 \n",
      "9 * 5 = 45 \n",
      "9 * 6 = 54 \n",
      "9 * 7 = 63 \n",
      "9 * 8 = 72 \n",
      "9 * 9 = 81 \n",
      "9 * 10 = 90 \n"
     ]
    }
   ],
   "source": []
  },
  {
   "cell_type": "markdown",
   "id": "c07b56c5",
   "metadata": {},
   "source": [
    "4) Faça um programa em que o usuário digite números quaisquer e encerrará no momento em que o valor 0 seja digitado. Ao final diga qual foi o maior número digitado."
   ]
  },
  {
   "cell_type": "code",
   "execution_count": 19,
   "id": "55403094",
   "metadata": {},
   "outputs": [
    {
     "name": "stdout",
     "output_type": "stream",
     "text": [
      "Digite um numero: 8\n",
      "Digite um novo numero ou 0 para encerrar: 4\n",
      "Digite um novo numero ou 0 para encerrar: 10\n",
      "Digite um novo numero ou 0 para encerrar: 0\n",
      "O maior valor digitado foi 10\n"
     ]
    }
   ],
   "source": []
  },
  {
   "cell_type": "markdown",
   "id": "7fd3a936",
   "metadata": {},
   "source": [
    "5) Faça um script que peça para o usuário digitar a idade, o salário e o sexo de uma pessoa até que as entradas digitadas sejam válidas.  \n",
    "  \n",
    "a. Idade: entre 0 e 150  \n",
    "b. Salário: maior que 0  \n",
    "c. Gênero: M, F ou Outro  \n",
    "  \n",
    "Por último imprima os dados recebidos do usuário."
   ]
  },
  {
   "cell_type": "code",
   "execution_count": 20,
   "id": "406e274f",
   "metadata": {},
   "outputs": [
    {
     "name": "stdout",
     "output_type": "stream",
     "text": [
      "Digite sua idade: 100\n",
      "Digite seu salário: 1000\n",
      "Digite seu gênero: f\n",
      "Todas as entradas foram válidas\n"
     ]
    }
   ],
   "source": []
  },
  {
   "cell_type": "code",
   "execution_count": 21,
   "id": "1f0b318d",
   "metadata": {},
   "outputs": [
    {
     "name": "stdout",
     "output_type": "stream",
     "text": [
      "Qual a sua idade? 160\n",
      "Qual o seu salário: 1000\n",
      "Qual o seu sexo (M, F ou Outro): f\n",
      "Idade inválida!\n",
      "Qual a sua idade? -1\n",
      "Idade inválida!\n",
      "Qual a sua idade? 100\n",
      "Sexo inválido!\n",
      "Qual o seu sexo (M, F ou Outro): F\n",
      "Todas entradas estão válidas\n",
      "Idade: 100.0, salário: 1000.0 e sexo: F\n"
     ]
    }
   ],
   "source": []
  },
  {
   "cell_type": "markdown",
   "id": "51a71f3b",
   "metadata": {},
   "source": [
    "6) Faça uma calculadora. O usuário deve inserir qual a operação matemática ele deseja realizar e logo em seguida os dois números. O programa deve finalizar apenas quando o usuário digitar a opção \"sair\" no momento de escolha da operação matemática."
   ]
  },
  {
   "cell_type": "code",
   "execution_count": 22,
   "id": "649be3f1",
   "metadata": {},
   "outputs": [
    {
     "name": "stdout",
     "output_type": "stream",
     "text": [
      "A = Adição\n",
      "S = Subtração\n",
      "M = Multiplicação\n",
      "D = Divisão\n",
      "Digite a operação desejada: A\n",
      "Digite o primeiro número: 1\n",
      "Digite o segundo número: 2\n",
      "1.0 + 2.0 = 3.0\n",
      "A = Adição\n",
      "S = Subtração\n",
      "M = Multiplicação\n",
      "D = Divisão\n",
      "Digite a operação desejada: sair\n",
      "\n",
      "Programa finalizado :)\n"
     ]
    }
   ],
   "source": []
  },
  {
   "cell_type": "code",
   "execution_count": 4,
   "id": "97c92312",
   "metadata": {},
   "outputs": [],
   "source": []
  },
  {
   "cell_type": "code",
   "execution_count": 8,
   "id": "84dc0155-5517-4cf1-bc94-b33bb4e6b635",
   "metadata": {},
   "outputs": [
    {
     "name": "stdout",
     "output_type": "stream",
     "text": [
      "2550\n"
     ]
    }
   ],
   "source": [
    "i = 1\n",
    "soma = 0\n",
    "while(i <=100):\n",
    "    if (i % 2 == 0):\n",
    "        soma += i \n",
    "    i += 1\n",
    "print(soma)"
   ]
  },
  {
   "cell_type": "code",
   "execution_count": 1,
   "id": "37ddec7a-70a4-458c-a821-6521eeb0d1b8",
   "metadata": {},
   "outputs": [
    {
     "name": "stdin",
     "output_type": "stream",
     "text": [
      "Diga algo: aa\n"
     ]
    },
    {
     "ename": "KeyboardInterrupt",
     "evalue": "",
     "output_type": "error",
     "traceback": [
      "\u001b[0;31m---------------------------------------------------------------------------\u001b[0m",
      "\u001b[0;31mKeyboardInterrupt\u001b[0m                         Traceback (most recent call last)",
      "Cell \u001b[0;32mIn[1], line 3\u001b[0m\n\u001b[1;32m      1\u001b[0m texto \u001b[38;5;241m=\u001b[39m \u001b[38;5;28minput\u001b[39m(\u001b[38;5;124m\"\u001b[39m\u001b[38;5;124mDiga algo:\u001b[39m\u001b[38;5;124m\"\u001b[39m)\n\u001b[1;32m      2\u001b[0m textao\u001b[38;5;241m=\u001b[39m\u001b[38;5;124m\"\u001b[39m\u001b[38;5;124m\"\u001b[39m\n\u001b[0;32m----> 3\u001b[0m \u001b[38;5;28;01mwhile\u001b[39;00m(texto \u001b[38;5;241m!=\u001b[39m\u001b[38;5;124m\"\u001b[39m\u001b[38;5;124mPARE\u001b[39m\u001b[38;5;124m\"\u001b[39m): \n\u001b[1;32m      4\u001b[0m     textao \u001b[38;5;241m+\u001b[39m\u001b[38;5;241m=\u001b[39m texto\n",
      "\u001b[0;31mKeyboardInterrupt\u001b[0m: "
     ]
    }
   ],
   "source": [
    "texto = input(\"Diga algo:\")\n",
    "textao=\"\"\n",
    "while(texto != \"PARE\"): \n",
    "    textao += texto"
   ]
  },
  {
   "cell_type": "code",
   "execution_count": null,
   "id": "8a9bced5-5f54-41ae-8179-ede6b505b126",
   "metadata": {},
   "outputs": [],
   "source": []
  },
  {
   "cell_type": "code",
   "execution_count": null,
   "id": "a46354ca-e7c8-42fd-9144-821379882280",
   "metadata": {},
   "outputs": [],
   "source": []
  }
 ],
 "metadata": {
  "kernelspec": {
   "display_name": "Python 3 (ipykernel)",
   "language": "python",
   "name": "python3"
  },
  "language_info": {
   "codemirror_mode": {
    "name": "ipython",
    "version": 3
   },
   "file_extension": ".py",
   "mimetype": "text/x-python",
   "name": "python",
   "nbconvert_exporter": "python",
   "pygments_lexer": "ipython3",
   "version": "3.11.5"
  }
 },
 "nbformat": 4,
 "nbformat_minor": 5
}
